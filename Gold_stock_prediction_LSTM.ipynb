{
  "nbformat": 4,
  "nbformat_minor": 0,
  "metadata": {
    "colab": {
      "provenance": []
    },
    "kernelspec": {
      "name": "python3",
      "display_name": "Python 3"
    },
    "language_info": {
      "name": "python"
    }
  },
  "cells": [
    {
      "cell_type": "markdown",
      "source": [
        "#**Predicting Stock Prices with LSTM using PyTorch**"
      ],
      "metadata": {
        "id": "A5v6REcDH8bl"
      }
    },
    {
      "cell_type": "markdown",
      "source": [
        "**Installing and importing the libraries**"
      ],
      "metadata": {
        "id": "PlE2TUy-H_32"
      }
    },
    {
      "cell_type": "code",
      "source": [
        "%%capture\n",
        "!pip install torch==\"2.3.0\"\n",
        "!pip install pandas==\"2.2.2\"\n",
        "!pip install matplotlib==\"3.8.4\"\n",
        "!pip install scikit-learn==\"1.4.2\""
      ],
      "metadata": {
        "id": "ZjpvzxxxH_Ep"
      },
      "execution_count": null,
      "outputs": []
    },
    {
      "cell_type": "code",
      "source": [
        "import torch\n",
        "from torch import nn\n",
        "import matplotlib.pyplot as plt\n",
        "import pandas as pd\n",
        "import numpy as np"
      ],
      "metadata": {
        "id": "4HsScYDpILFH"
      },
      "execution_count": null,
      "outputs": []
    },
    {
      "cell_type": "markdown",
      "source": [
        "**Reading and Loading the data**"
      ],
      "metadata": {
        "id": "Oal8MixrIheG"
      }
    },
    {
      "cell_type": "code",
      "source": [
        "url=\"https://raw.githubusercontent.com/Sai-Manasvi/gold-stock-prediction-using-lstm/refs/heads/main/goldstock.csv\"\n",
        "df = pd.read_csv(url)\n",
        "df.drop(['Unnamed: 0'], axis=1, inplace = True)"
      ],
      "metadata": {
        "id": "ynGpxpFpIt6i"
      },
      "execution_count": null,
      "outputs": []
    },
    {
      "cell_type": "code",
      "source": [
        "df.head()"
      ],
      "metadata": {
        "colab": {
          "base_uri": "https://localhost:8080/",
          "height": 206
        },
        "id": "UFmkGbSPI8Cf",
        "outputId": "b8af04d7-c309-4b5d-bca0-174dea2b4dae"
      },
      "execution_count": null,
      "outputs": [
        {
          "output_type": "execute_result",
          "data": {
            "text/plain": [
              "         Date   Close    Volume    Open    High     Low\n",
              "0  2024-01-19  2029.3  166078.0  2027.4  2041.9  2022.2\n",
              "1  2024-01-18  2021.6  167013.0  2009.1  2025.6  2007.7\n",
              "2  2024-01-17  2006.5  245194.0  2031.7  2036.1  2004.6\n",
              "3  2024-01-16  2030.2  277995.0  2053.4  2062.8  2027.6\n",
              "4  2024-01-12  2051.6  250946.0  2033.2  2067.3  2033.1"
            ],
            "text/html": [
              "\n",
              "  <div id=\"df-7a8cc3d4-3a36-4143-a196-a0450707f6bb\" class=\"colab-df-container\">\n",
              "    <div>\n",
              "<style scoped>\n",
              "    .dataframe tbody tr th:only-of-type {\n",
              "        vertical-align: middle;\n",
              "    }\n",
              "\n",
              "    .dataframe tbody tr th {\n",
              "        vertical-align: top;\n",
              "    }\n",
              "\n",
              "    .dataframe thead th {\n",
              "        text-align: right;\n",
              "    }\n",
              "</style>\n",
              "<table border=\"1\" class=\"dataframe\">\n",
              "  <thead>\n",
              "    <tr style=\"text-align: right;\">\n",
              "      <th></th>\n",
              "      <th>Date</th>\n",
              "      <th>Close</th>\n",
              "      <th>Volume</th>\n",
              "      <th>Open</th>\n",
              "      <th>High</th>\n",
              "      <th>Low</th>\n",
              "    </tr>\n",
              "  </thead>\n",
              "  <tbody>\n",
              "    <tr>\n",
              "      <th>0</th>\n",
              "      <td>2024-01-19</td>\n",
              "      <td>2029.3</td>\n",
              "      <td>166078.0</td>\n",
              "      <td>2027.4</td>\n",
              "      <td>2041.9</td>\n",
              "      <td>2022.2</td>\n",
              "    </tr>\n",
              "    <tr>\n",
              "      <th>1</th>\n",
              "      <td>2024-01-18</td>\n",
              "      <td>2021.6</td>\n",
              "      <td>167013.0</td>\n",
              "      <td>2009.1</td>\n",
              "      <td>2025.6</td>\n",
              "      <td>2007.7</td>\n",
              "    </tr>\n",
              "    <tr>\n",
              "      <th>2</th>\n",
              "      <td>2024-01-17</td>\n",
              "      <td>2006.5</td>\n",
              "      <td>245194.0</td>\n",
              "      <td>2031.7</td>\n",
              "      <td>2036.1</td>\n",
              "      <td>2004.6</td>\n",
              "    </tr>\n",
              "    <tr>\n",
              "      <th>3</th>\n",
              "      <td>2024-01-16</td>\n",
              "      <td>2030.2</td>\n",
              "      <td>277995.0</td>\n",
              "      <td>2053.4</td>\n",
              "      <td>2062.8</td>\n",
              "      <td>2027.6</td>\n",
              "    </tr>\n",
              "    <tr>\n",
              "      <th>4</th>\n",
              "      <td>2024-01-12</td>\n",
              "      <td>2051.6</td>\n",
              "      <td>250946.0</td>\n",
              "      <td>2033.2</td>\n",
              "      <td>2067.3</td>\n",
              "      <td>2033.1</td>\n",
              "    </tr>\n",
              "  </tbody>\n",
              "</table>\n",
              "</div>\n",
              "    <div class=\"colab-df-buttons\">\n",
              "\n",
              "  <div class=\"colab-df-container\">\n",
              "    <button class=\"colab-df-convert\" onclick=\"convertToInteractive('df-7a8cc3d4-3a36-4143-a196-a0450707f6bb')\"\n",
              "            title=\"Convert this dataframe to an interactive table.\"\n",
              "            style=\"display:none;\">\n",
              "\n",
              "  <svg xmlns=\"http://www.w3.org/2000/svg\" height=\"24px\" viewBox=\"0 -960 960 960\">\n",
              "    <path d=\"M120-120v-720h720v720H120Zm60-500h600v-160H180v160Zm220 220h160v-160H400v160Zm0 220h160v-160H400v160ZM180-400h160v-160H180v160Zm440 0h160v-160H620v160ZM180-180h160v-160H180v160Zm440 0h160v-160H620v160Z\"/>\n",
              "  </svg>\n",
              "    </button>\n",
              "\n",
              "  <style>\n",
              "    .colab-df-container {\n",
              "      display:flex;\n",
              "      gap: 12px;\n",
              "    }\n",
              "\n",
              "    .colab-df-convert {\n",
              "      background-color: #E8F0FE;\n",
              "      border: none;\n",
              "      border-radius: 50%;\n",
              "      cursor: pointer;\n",
              "      display: none;\n",
              "      fill: #1967D2;\n",
              "      height: 32px;\n",
              "      padding: 0 0 0 0;\n",
              "      width: 32px;\n",
              "    }\n",
              "\n",
              "    .colab-df-convert:hover {\n",
              "      background-color: #E2EBFA;\n",
              "      box-shadow: 0px 1px 2px rgba(60, 64, 67, 0.3), 0px 1px 3px 1px rgba(60, 64, 67, 0.15);\n",
              "      fill: #174EA6;\n",
              "    }\n",
              "\n",
              "    .colab-df-buttons div {\n",
              "      margin-bottom: 4px;\n",
              "    }\n",
              "\n",
              "    [theme=dark] .colab-df-convert {\n",
              "      background-color: #3B4455;\n",
              "      fill: #D2E3FC;\n",
              "    }\n",
              "\n",
              "    [theme=dark] .colab-df-convert:hover {\n",
              "      background-color: #434B5C;\n",
              "      box-shadow: 0px 1px 3px 1px rgba(0, 0, 0, 0.15);\n",
              "      filter: drop-shadow(0px 1px 2px rgba(0, 0, 0, 0.3));\n",
              "      fill: #FFFFFF;\n",
              "    }\n",
              "  </style>\n",
              "\n",
              "    <script>\n",
              "      const buttonEl =\n",
              "        document.querySelector('#df-7a8cc3d4-3a36-4143-a196-a0450707f6bb button.colab-df-convert');\n",
              "      buttonEl.style.display =\n",
              "        google.colab.kernel.accessAllowed ? 'block' : 'none';\n",
              "\n",
              "      async function convertToInteractive(key) {\n",
              "        const element = document.querySelector('#df-7a8cc3d4-3a36-4143-a196-a0450707f6bb');\n",
              "        const dataTable =\n",
              "          await google.colab.kernel.invokeFunction('convertToInteractive',\n",
              "                                                    [key], {});\n",
              "        if (!dataTable) return;\n",
              "\n",
              "        const docLinkHtml = 'Like what you see? Visit the ' +\n",
              "          '<a target=\"_blank\" href=https://colab.research.google.com/notebooks/data_table.ipynb>data table notebook</a>'\n",
              "          + ' to learn more about interactive tables.';\n",
              "        element.innerHTML = '';\n",
              "        dataTable['output_type'] = 'display_data';\n",
              "        await google.colab.output.renderOutput(dataTable, element);\n",
              "        const docLink = document.createElement('div');\n",
              "        docLink.innerHTML = docLinkHtml;\n",
              "        element.appendChild(docLink);\n",
              "      }\n",
              "    </script>\n",
              "  </div>\n",
              "\n",
              "\n",
              "<div id=\"df-6012dbe7-0df4-49c5-877e-24cb3fea1499\">\n",
              "  <button class=\"colab-df-quickchart\" onclick=\"quickchart('df-6012dbe7-0df4-49c5-877e-24cb3fea1499')\"\n",
              "            title=\"Suggest charts\"\n",
              "            style=\"display:none;\">\n",
              "\n",
              "<svg xmlns=\"http://www.w3.org/2000/svg\" height=\"24px\"viewBox=\"0 0 24 24\"\n",
              "     width=\"24px\">\n",
              "    <g>\n",
              "        <path d=\"M19 3H5c-1.1 0-2 .9-2 2v14c0 1.1.9 2 2 2h14c1.1 0 2-.9 2-2V5c0-1.1-.9-2-2-2zM9 17H7v-7h2v7zm4 0h-2V7h2v10zm4 0h-2v-4h2v4z\"/>\n",
              "    </g>\n",
              "</svg>\n",
              "  </button>\n",
              "\n",
              "<style>\n",
              "  .colab-df-quickchart {\n",
              "      --bg-color: #E8F0FE;\n",
              "      --fill-color: #1967D2;\n",
              "      --hover-bg-color: #E2EBFA;\n",
              "      --hover-fill-color: #174EA6;\n",
              "      --disabled-fill-color: #AAA;\n",
              "      --disabled-bg-color: #DDD;\n",
              "  }\n",
              "\n",
              "  [theme=dark] .colab-df-quickchart {\n",
              "      --bg-color: #3B4455;\n",
              "      --fill-color: #D2E3FC;\n",
              "      --hover-bg-color: #434B5C;\n",
              "      --hover-fill-color: #FFFFFF;\n",
              "      --disabled-bg-color: #3B4455;\n",
              "      --disabled-fill-color: #666;\n",
              "  }\n",
              "\n",
              "  .colab-df-quickchart {\n",
              "    background-color: var(--bg-color);\n",
              "    border: none;\n",
              "    border-radius: 50%;\n",
              "    cursor: pointer;\n",
              "    display: none;\n",
              "    fill: var(--fill-color);\n",
              "    height: 32px;\n",
              "    padding: 0;\n",
              "    width: 32px;\n",
              "  }\n",
              "\n",
              "  .colab-df-quickchart:hover {\n",
              "    background-color: var(--hover-bg-color);\n",
              "    box-shadow: 0 1px 2px rgba(60, 64, 67, 0.3), 0 1px 3px 1px rgba(60, 64, 67, 0.15);\n",
              "    fill: var(--button-hover-fill-color);\n",
              "  }\n",
              "\n",
              "  .colab-df-quickchart-complete:disabled,\n",
              "  .colab-df-quickchart-complete:disabled:hover {\n",
              "    background-color: var(--disabled-bg-color);\n",
              "    fill: var(--disabled-fill-color);\n",
              "    box-shadow: none;\n",
              "  }\n",
              "\n",
              "  .colab-df-spinner {\n",
              "    border: 2px solid var(--fill-color);\n",
              "    border-color: transparent;\n",
              "    border-bottom-color: var(--fill-color);\n",
              "    animation:\n",
              "      spin 1s steps(1) infinite;\n",
              "  }\n",
              "\n",
              "  @keyframes spin {\n",
              "    0% {\n",
              "      border-color: transparent;\n",
              "      border-bottom-color: var(--fill-color);\n",
              "      border-left-color: var(--fill-color);\n",
              "    }\n",
              "    20% {\n",
              "      border-color: transparent;\n",
              "      border-left-color: var(--fill-color);\n",
              "      border-top-color: var(--fill-color);\n",
              "    }\n",
              "    30% {\n",
              "      border-color: transparent;\n",
              "      border-left-color: var(--fill-color);\n",
              "      border-top-color: var(--fill-color);\n",
              "      border-right-color: var(--fill-color);\n",
              "    }\n",
              "    40% {\n",
              "      border-color: transparent;\n",
              "      border-right-color: var(--fill-color);\n",
              "      border-top-color: var(--fill-color);\n",
              "    }\n",
              "    60% {\n",
              "      border-color: transparent;\n",
              "      border-right-color: var(--fill-color);\n",
              "    }\n",
              "    80% {\n",
              "      border-color: transparent;\n",
              "      border-right-color: var(--fill-color);\n",
              "      border-bottom-color: var(--fill-color);\n",
              "    }\n",
              "    90% {\n",
              "      border-color: transparent;\n",
              "      border-bottom-color: var(--fill-color);\n",
              "    }\n",
              "  }\n",
              "</style>\n",
              "\n",
              "  <script>\n",
              "    async function quickchart(key) {\n",
              "      const quickchartButtonEl =\n",
              "        document.querySelector('#' + key + ' button');\n",
              "      quickchartButtonEl.disabled = true;  // To prevent multiple clicks.\n",
              "      quickchartButtonEl.classList.add('colab-df-spinner');\n",
              "      try {\n",
              "        const charts = await google.colab.kernel.invokeFunction(\n",
              "            'suggestCharts', [key], {});\n",
              "      } catch (error) {\n",
              "        console.error('Error during call to suggestCharts:', error);\n",
              "      }\n",
              "      quickchartButtonEl.classList.remove('colab-df-spinner');\n",
              "      quickchartButtonEl.classList.add('colab-df-quickchart-complete');\n",
              "    }\n",
              "    (() => {\n",
              "      let quickchartButtonEl =\n",
              "        document.querySelector('#df-6012dbe7-0df4-49c5-877e-24cb3fea1499 button');\n",
              "      quickchartButtonEl.style.display =\n",
              "        google.colab.kernel.accessAllowed ? 'block' : 'none';\n",
              "    })();\n",
              "  </script>\n",
              "</div>\n",
              "\n",
              "    </div>\n",
              "  </div>\n"
            ],
            "application/vnd.google.colaboratory.intrinsic+json": {
              "type": "dataframe",
              "variable_name": "df",
              "summary": "{\n  \"name\": \"df\",\n  \"rows\": 2511,\n  \"fields\": [\n    {\n      \"column\": \"Date\",\n      \"properties\": {\n        \"dtype\": \"object\",\n        \"num_unique_values\": 2493,\n        \"samples\": [\n          \"2015-03-04\",\n          \"2015-09-22\",\n          \"2018-06-01\"\n        ],\n        \"semantic_type\": \"\",\n        \"description\": \"\"\n      }\n    },\n    {\n      \"column\": \"Close\",\n      \"properties\": {\n        \"dtype\": \"number\",\n        \"std\": 298.82481071452673,\n        \"min\": 1049.6,\n        \"max\": 2093.1,\n        \"num_unique_values\": 2059,\n        \"samples\": [\n          1325.6,\n          1892.0,\n          1343.1\n        ],\n        \"semantic_type\": \"\",\n        \"description\": \"\"\n      }\n    },\n    {\n      \"column\": \"Volume\",\n      \"properties\": {\n        \"dtype\": \"number\",\n        \"std\": 97600.76938172732,\n        \"min\": 1.0,\n        \"max\": 787217.0,\n        \"num_unique_values\": 2466,\n        \"samples\": [\n          439428.0,\n          252780.0,\n          232701.0\n        ],\n        \"semantic_type\": \"\",\n        \"description\": \"\"\n      }\n    },\n    {\n      \"column\": \"Open\",\n      \"properties\": {\n        \"dtype\": \"number\",\n        \"std\": 299.1181873664934,\n        \"min\": 1051.5,\n        \"max\": 2094.4,\n        \"num_unique_values\": 2017,\n        \"samples\": [\n          1261.7,\n          1793.0,\n          1820.2\n        ],\n        \"semantic_type\": \"\",\n        \"description\": \"\"\n      }\n    },\n    {\n      \"column\": \"High\",\n      \"properties\": {\n        \"dtype\": \"number\",\n        \"std\": 301.26224433445356,\n        \"min\": 1062.7,\n        \"max\": 2098.2,\n        \"num_unique_values\": 2073,\n        \"samples\": [\n          1231.5,\n          1361.0,\n          1111.9\n        ],\n        \"semantic_type\": \"\",\n        \"description\": \"\"\n      }\n    },\n    {\n      \"column\": \"Low\",\n      \"properties\": {\n        \"dtype\": \"number\",\n        \"std\": 296.4177031773368,\n        \"min\": 1045.4,\n        \"max\": 2074.6,\n        \"num_unique_values\": 2049,\n        \"samples\": [\n          1303.0,\n          1807.4,\n          1452.0\n        ],\n        \"semantic_type\": \"\",\n        \"description\": \"\"\n      }\n    }\n  ]\n}"
            }
          },
          "metadata": {},
          "execution_count": 444
        }
      ]
    },
    {
      "cell_type": "code",
      "source": [
        "stock_data = df\n",
        "# Convert the date column into a Datetime object:\n",
        "stock_data['Date'] = pd.to_datetime(df.Date)\n",
        "print(\"Information about the dataset\", end = \"\\n\")\n",
        "print(stock_data.info())"
      ],
      "metadata": {
        "colab": {
          "base_uri": "https://localhost:8080/"
        },
        "id": "lcg0rCg4U7m7",
        "outputId": "144b6190-3419-4637-9481-0ba594897ab2"
      },
      "execution_count": null,
      "outputs": [
        {
          "output_type": "stream",
          "name": "stdout",
          "text": [
            "Information about the dataset\n",
            "<class 'pandas.core.frame.DataFrame'>\n",
            "RangeIndex: 2511 entries, 0 to 2510\n",
            "Data columns (total 6 columns):\n",
            " #   Column  Non-Null Count  Dtype         \n",
            "---  ------  --------------  -----         \n",
            " 0   Date    2511 non-null   datetime64[ns]\n",
            " 1   Close   2511 non-null   float64       \n",
            " 2   Volume  2511 non-null   float64       \n",
            " 3   Open    2511 non-null   float64       \n",
            " 4   High    2511 non-null   float64       \n",
            " 5   Low     2511 non-null   float64       \n",
            "dtypes: datetime64[ns](1), float64(5)\n",
            "memory usage: 117.8 KB\n",
            "None\n"
          ]
        }
      ]
    },
    {
      "cell_type": "code",
      "source": [
        "from sklearn.preprocessing import MinMaxScaler\n",
        "price = stock_data[['High','Low','Open','Close']]\n",
        "print(price[:5])"
      ],
      "metadata": {
        "colab": {
          "base_uri": "https://localhost:8080/"
        },
        "id": "aJaw3TFUJxJN",
        "outputId": "37ac206d-eafd-4b95-d247-24b855791133"
      },
      "execution_count": null,
      "outputs": [
        {
          "output_type": "stream",
          "name": "stdout",
          "text": [
            "     High     Low    Open   Close\n",
            "0  2041.9  2022.2  2027.4  2029.3\n",
            "1  2025.6  2007.7  2009.1  2021.6\n",
            "2  2036.1  2004.6  2031.7  2006.5\n",
            "3  2062.8  2027.6  2053.4  2030.2\n",
            "4  2067.3  2033.1  2033.2  2051.6\n"
          ]
        }
      ]
    },
    {
      "cell_type": "markdown",
      "source": [
        "**Scaling the data**"
      ],
      "metadata": {
        "id": "G9f84uWmx2Bw"
      }
    },
    {
      "cell_type": "code",
      "source": [
        "scaler = MinMaxScaler(feature_range=(-1, 1))\n",
        "price = scaler.fit_transform(price)\n",
        "print(price[:5])"
      ],
      "metadata": {
        "colab": {
          "base_uri": "https://localhost:8080/"
        },
        "id": "TNbicorDJ2Ga",
        "outputId": "0ba2d388-5eff-4e01-bd7f-670c9fad3f05"
      },
      "execution_count": null,
      "outputs": [
        {
          "output_type": "stream",
          "name": "stdout",
          "text": [
            "[[0.89126026 0.89817334 0.87151213 0.87771921]\n",
            " [0.85977789 0.86999611 0.83641768 0.86296119]\n",
            " [0.88005794 0.86397202 0.87975837 0.83402012]\n",
            " [0.93162723 0.90866693 0.92137309 0.87944418]\n",
            " [0.94031869 0.91935484 0.88263496 0.92045999]]\n"
          ]
        }
      ]
    },
    {
      "cell_type": "markdown",
      "source": [
        "**Training and Test Data Division**"
      ],
      "metadata": {
        "id": "q5hPH5XcyBwD"
      }
    },
    {
      "cell_type": "code",
      "source": [
        "train_window = 11\n",
        "import numpy as np\n",
        "def create_in_out_sequences(price, tw):\n",
        "    inout_seq = []\n",
        "    L = len(price)\n",
        "    print('Length = ', L)\n",
        "\n",
        "    for i in range(L-tw):\n",
        "        data_seq = price[i:i+tw]\n",
        "        data_label = price[i+tw:i+tw+1][0][3]\n",
        "        inout_seq.append((data_seq ,data_label))\n",
        "\n",
        "    data = inout_seq;\n",
        "    print('size of data : ', len(data))\n",
        "\n",
        "    test_set_size = 500\n",
        "    train_set_size = len(data) - (test_set_size);\n",
        "    print('size of test : ', test_set_size)\n",
        "    print('size of train : ', train_set_size)\n",
        "\n",
        "    train = data[:train_set_size]\n",
        "    test = data[train_set_size:]\n",
        "    train = train[:-(tw-1)]\n",
        "    return train, test\n",
        "\n",
        "train,test = create_in_out_sequences(price, train_window)"
      ],
      "metadata": {
        "colab": {
          "base_uri": "https://localhost:8080/"
        },
        "id": "nfsW6H-nJ41X",
        "outputId": "e12bfe4c-9e9f-4d94-ff42-d0195f93461e"
      },
      "execution_count": null,
      "outputs": [
        {
          "output_type": "stream",
          "name": "stdout",
          "text": [
            "Length =  2511\n",
            "size of data :  2500\n",
            "size of test :  500\n",
            "size of train :  2000\n"
          ]
        }
      ]
    },
    {
      "cell_type": "code",
      "source": [
        "print(test[0])\n",
        "print(train[-1])"
      ],
      "metadata": {
        "colab": {
          "base_uri": "https://localhost:8080/"
        },
        "id": "ZdlrkE17J8-e",
        "outputId": "65d6296f-718c-4841-efaa-e079c5c0f7f4"
      },
      "execution_count": null,
      "outputs": [
        {
          "output_type": "stream",
          "name": "stdout",
          "text": [
            "(array([[-0.8696282 , -0.86416634, -0.87247099, -0.84973646],\n",
            "       [-0.8914534 , -0.87738049, -0.87860773, -0.87196933],\n",
            "       [-0.87696765, -0.87407695, -0.87688177, -0.87254432],\n",
            "       [-0.87252535, -0.86436067, -0.86825199, -0.872161  ],\n",
            "       [-0.88237566, -0.8789351 , -0.88896347, -0.8639195 ],\n",
            "       [-0.91018831, -0.89856199, -0.91120913, -0.89324389],\n",
            "       [-0.92119749, -0.90478041, -0.90392176, -0.91049353],\n",
            "       [-0.91868662, -0.9084726 , -0.90526417, -0.90685194],\n",
            "       [-0.90883631, -0.91896619, -0.93134529, -0.89151893],\n",
            "       [-0.9385804 , -0.92868247, -0.92808515, -0.92429324],\n",
            "       [-0.94089812, -0.915274  , -0.92750983, -0.92122664]]), -0.9540009583133684)\n",
            "(array([[-0.70700145, -0.70695686, -0.7115735 , -0.68988979],\n",
            "       [-0.66470304, -0.71609017, -0.69719053, -0.696023  ],\n",
            "       [-0.66470304, -0.67042363, -0.64560361, -0.63622425],\n",
            "       [-0.61139546, -0.70676253, -0.72001151, -0.62012458],\n",
            "       [-0.73848382, -0.73532841, -0.7349698 , -0.72208912],\n",
            "       [-0.7361661 , -0.72697241, -0.73554511, -0.71442262],\n",
            "       [-0.73211009, -0.7685581 , -0.76507815, -0.71576425],\n",
            "       [-0.78309995, -0.80547998, -0.8001726 , -0.79281265],\n",
            "       [-0.81612747, -0.81675087, -0.79825487, -0.79319598],\n",
            "       [-0.83872525, -0.8457054 , -0.85060888, -0.82424533],\n",
            "       [-0.86711733, -0.84998057, -0.85175952, -0.85126977]]), -0.8497364638236702)\n"
          ]
        }
      ]
    },
    {
      "cell_type": "markdown",
      "source": [
        "**LSTM Class**"
      ],
      "metadata": {
        "id": "-t9JOLuoyJ5w"
      }
    },
    {
      "cell_type": "code",
      "source": [
        "class LSTM(nn.Module):\n",
        "    def __init__(self, input_size=4, hidden_layer_size=100, output_size=1):\n",
        "        super().__init__()\n",
        "        self.hidden_layer_size = hidden_layer_size\n",
        "\n",
        "        self.lstm = nn.LSTM(input_size, hidden_layer_size)\n",
        "\n",
        "        self.linear = nn.Linear(hidden_layer_size, output_size)\n",
        "\n",
        "    def forward(self, input_seq):\n",
        "        hidden_cell = (torch.zeros(1,1,self.hidden_layer_size),\n",
        "                       torch.zeros(1,1,self.hidden_layer_size))\n",
        "        lstm_out, hidden_cell = self.lstm(input_seq.view(len(input_seq), 1, -1), hidden_cell)\n",
        "        predictions = self.linear(lstm_out.view(len(input_seq), -1))\n",
        "        return predictions[-1]"
      ],
      "metadata": {
        "id": "-XXuTyniKCaI"
      },
      "execution_count": null,
      "outputs": []
    },
    {
      "cell_type": "code",
      "source": [
        "model = LSTM()\n",
        "loss_function = nn.MSELoss()\n",
        "optimizer = torch.optim.Adam(model.parameters(), lr=0.0003)"
      ],
      "metadata": {
        "id": "UOoh4434KEHO"
      },
      "execution_count": null,
      "outputs": []
    },
    {
      "cell_type": "code",
      "source": [
        "from tqdm import tqdm\n",
        "import torch\n",
        "import numpy as np\n",
        "\n",
        "epochs = 10\n",
        "for i in tqdm(range(epochs), desc=\"Epoch Progress\"):\n",
        "    epoch_loss = 0\n",
        "    for seq, labels in train:  # Removed tqdm from here\n",
        "        seq = torch.from_numpy(np.array(seq)).type(torch.FloatTensor)\n",
        "        labels = torch.from_numpy(np.array(labels)).type(torch.FloatTensor)\n",
        "\n",
        "        optimizer.zero_grad()\n",
        "\n",
        "        y_pred = model(seq)\n",
        "\n",
        "        labels = labels.view(1)\n",
        "\n",
        "        single_loss = loss_function(y_pred, labels)\n",
        "        single_loss.backward()\n",
        "        optimizer.step()\n",
        "\n",
        "        epoch_loss += single_loss.item()\n",
        "\n",
        "    average_loss = epoch_loss / len(train)\n",
        "    print(f'epoch: {i:3} loss: {average_loss:.10f}')"
      ],
      "metadata": {
        "colab": {
          "base_uri": "https://localhost:8080/"
        },
        "id": "z7znA-lcKLJ9",
        "outputId": "ea770a35-900e-43f6-eb12-5da90fcc3ffd"
      },
      "execution_count": null,
      "outputs": [
        {
          "output_type": "stream",
          "name": "stderr",
          "text": [
            "Epoch Progress:  10%|█         | 1/10 [00:06<00:58,  6.54s/it]"
          ]
        },
        {
          "output_type": "stream",
          "name": "stdout",
          "text": [
            "epoch:   0 loss: 0.0032208957\n"
          ]
        },
        {
          "output_type": "stream",
          "name": "stderr",
          "text": [
            "\rEpoch Progress:  20%|██        | 2/10 [00:14<00:56,  7.09s/it]"
          ]
        },
        {
          "output_type": "stream",
          "name": "stdout",
          "text": [
            "epoch:   1 loss: 0.0029006974\n"
          ]
        },
        {
          "output_type": "stream",
          "name": "stderr",
          "text": [
            "\rEpoch Progress:  30%|███       | 3/10 [00:22<00:52,  7.54s/it]"
          ]
        },
        {
          "output_type": "stream",
          "name": "stdout",
          "text": [
            "epoch:   2 loss: 0.0018191128\n"
          ]
        },
        {
          "output_type": "stream",
          "name": "stderr",
          "text": [
            "\rEpoch Progress:  40%|████      | 4/10 [00:27<00:39,  6.57s/it]"
          ]
        },
        {
          "output_type": "stream",
          "name": "stdout",
          "text": [
            "epoch:   3 loss: 0.0012100205\n"
          ]
        },
        {
          "output_type": "stream",
          "name": "stderr",
          "text": [
            "\rEpoch Progress:  50%|█████     | 5/10 [00:33<00:31,  6.31s/it]"
          ]
        },
        {
          "output_type": "stream",
          "name": "stdout",
          "text": [
            "epoch:   4 loss: 0.0008723977\n"
          ]
        },
        {
          "output_type": "stream",
          "name": "stderr",
          "text": [
            "\rEpoch Progress:  60%|██████    | 6/10 [00:37<00:23,  5.85s/it]"
          ]
        },
        {
          "output_type": "stream",
          "name": "stdout",
          "text": [
            "epoch:   5 loss: 0.0006495615\n"
          ]
        },
        {
          "output_type": "stream",
          "name": "stderr",
          "text": [
            "\rEpoch Progress:  70%|███████   | 7/10 [00:43<00:17,  5.87s/it]"
          ]
        },
        {
          "output_type": "stream",
          "name": "stdout",
          "text": [
            "epoch:   6 loss: 0.0004818606\n"
          ]
        },
        {
          "output_type": "stream",
          "name": "stderr",
          "text": [
            "\rEpoch Progress:  80%|████████  | 8/10 [00:50<00:11,  5.96s/it]"
          ]
        },
        {
          "output_type": "stream",
          "name": "stdout",
          "text": [
            "epoch:   7 loss: 0.0003756373\n"
          ]
        },
        {
          "output_type": "stream",
          "name": "stderr",
          "text": [
            "\rEpoch Progress:  90%|█████████ | 9/10 [00:55<00:05,  5.95s/it]"
          ]
        },
        {
          "output_type": "stream",
          "name": "stdout",
          "text": [
            "epoch:   8 loss: 0.0003219146\n"
          ]
        },
        {
          "output_type": "stream",
          "name": "stderr",
          "text": [
            "Epoch Progress: 100%|██████████| 10/10 [01:01<00:00,  6.11s/it]"
          ]
        },
        {
          "output_type": "stream",
          "name": "stdout",
          "text": [
            "epoch:   9 loss: 0.0002943093\n"
          ]
        },
        {
          "output_type": "stream",
          "name": "stderr",
          "text": [
            "\n"
          ]
        }
      ]
    },
    {
      "cell_type": "code",
      "source": [
        "model.eval()\n",
        "actual = []\n",
        "pred = []\n",
        "\n",
        "for seq, labels in test:\n",
        "    seq = torch.from_numpy(np.array(seq)).type(torch.FloatTensor)\n",
        "    labels = torch.from_numpy(np.array(labels)).type(torch.FloatTensor)\n",
        "    actual.append(labels.item())\n",
        "    with torch.no_grad():\n",
        "        pred.append(model(seq).item())\n",
        "\n",
        "actual = np.array(actual)\n",
        "pred = np.array(pred)"
      ],
      "metadata": {
        "id": "Eya9kfE0KNO0"
      },
      "execution_count": null,
      "outputs": []
    },
    {
      "cell_type": "code",
      "source": [
        "pred = torch.from_numpy(np.array(pred)).type(torch.Tensor)\n",
        "actual = torch.from_numpy(np.array(actual)).type(torch.Tensor)"
      ],
      "metadata": {
        "id": "gSeHG1rgKUSW"
      },
      "execution_count": null,
      "outputs": []
    },
    {
      "cell_type": "code",
      "source": [
        "print(pred)\n",
        "print(actual)"
      ],
      "metadata": {
        "colab": {
          "base_uri": "https://localhost:8080/"
        },
        "id": "FiZXBXm9KVzK",
        "outputId": "65f20d36-cddb-4f14-812f-2bc0d586656a"
      },
      "execution_count": null,
      "outputs": [
        {
          "output_type": "stream",
          "name": "stdout",
          "text": [
            "tensor([-0.9069, -0.9132, -0.9122, -0.8993, -0.8783, -0.8740, -0.8918, -0.9248,\n",
            "        -0.9320, -0.9514, -0.9621, -0.9458, -0.9433, -0.9378, -0.9318, -0.9344,\n",
            "        -0.9255, -0.9159, -0.9691, -0.9351, -0.9480, -0.9502, -0.9299, -0.9320,\n",
            "        -0.9279, -0.9205, -0.9320, -0.9076, -0.9448, -0.9653, -0.9428, -0.9444,\n",
            "        -0.9588, -0.9361, -0.9322, -0.9307, -0.9285, -0.9092, -0.9182, -0.9379,\n",
            "        -0.9142, -0.8992, -0.9135, -0.9095, -0.9006, -0.9009, -0.8991, -0.8778,\n",
            "        -0.8713, -0.8484, -0.8239, -0.8058, -0.7979, -0.7808, -0.7561, -0.7748,\n",
            "        -0.7710, -0.7717, -0.7756, -0.7624, -0.7689, -0.7620, -0.7506, -0.7480,\n",
            "        -0.7752, -0.7937, -0.7992, -0.8316, -0.8219, -0.8182, -0.8352, -0.8342,\n",
            "        -0.8751, -0.8723, -0.8541, -0.8405, -0.8153, -0.8023, -0.8294, -0.8475,\n",
            "        -0.8359, -0.8270, -0.8386, -0.8606, -0.8834, -0.8860, -0.8840, -0.8815,\n",
            "        -0.8811, -0.8581, -0.8549, -0.8468, -0.8291, -0.8165, -0.8210, -0.8329,\n",
            "        -0.8408, -0.8500, -0.8241, -0.7976, -0.7834, -0.7923, -0.8295, -0.8626,\n",
            "        -0.8700, -0.8717, -0.8720, -0.8536, -0.8807, -0.8850, -0.9029, -0.9133,\n",
            "        -0.9187, -0.9143, -0.9123, -0.8975, -0.9076, -0.8944, -0.8937, -0.8935,\n",
            "        -0.8872, -0.9116, -0.8908, -0.8916, -0.8825, -0.8829, -0.7860, -0.8017,\n",
            "        -0.7805, -0.7799, -0.7760, -0.7827, -0.7856, -0.7977, -0.7782, -0.7675,\n",
            "        -0.7848, -0.7652, -0.7603, -0.7498, -0.7738, -0.7655, -0.7652, -0.7484,\n",
            "        -0.7253, -0.7159, -0.7448, -0.7586, -0.7527, -0.7616, -0.7608, -0.7538,\n",
            "        -0.7635, -0.7697, -0.7756, -0.7712, -0.7513, -0.7370, -0.7392, -0.7350,\n",
            "        -0.7425, -0.7454, -0.7462, -0.7140, -0.7117, -0.7081, -0.7098, -0.6825,\n",
            "        -0.6768, -0.6922, -0.6949, -0.7378, -0.7596, -0.7540, -0.7589, -0.7497,\n",
            "        -0.7407, -0.7456, -0.7636, -0.7602, -0.7215, -0.7032, -0.7169, -0.7545,\n",
            "        -0.7425, -0.7473, -0.7248, -0.7326, -0.7188, -0.7256, -0.7210, -0.7387,\n",
            "        -0.7321, -0.7144, -0.7344, -0.7235, -0.7117, -0.7065, -0.6940, -0.7274,\n",
            "        -0.7496, -0.7568, -0.7347, -0.7220, -0.7240, -0.7414, -0.7459, -0.7571,\n",
            "        -0.7767, -0.7889, -0.8176, -0.8129, -0.8022, -0.8092, -0.8021, -0.7949,\n",
            "        -0.7824, -0.7707, -0.7284, -0.7110, -0.7088, -0.7063, -0.6911, -0.7052,\n",
            "        -0.7100, -0.7218, -0.7292, -0.7237, -0.7135, -0.7061, -0.7166, -0.6728,\n",
            "        -0.6827, -0.6829, -0.6693, -0.6571, -0.6613, -0.6164, -0.6051, -0.6184,\n",
            "        -0.5941, -0.5878, -0.6221, -0.5908, -0.5682, -0.5876, -0.5698, -0.5576,\n",
            "        -0.5691, -0.5631, -0.5983, -0.6224, -0.6795, -0.6802, -0.6774, -0.6967,\n",
            "        -0.7192, -0.7158, -0.7022, -0.7211, -0.7539, -0.7641, -0.7337, -0.7529,\n",
            "        -0.7406, -0.7652, -0.7685, -0.7667, -0.7342, -0.7269, -0.7330, -0.7321,\n",
            "        -0.7202, -0.6875, -0.6748, -0.6772, -0.6643, -0.7136, -0.7433, -0.7246,\n",
            "        -0.7149, -0.7319, -0.7118, -0.7948, -0.7426, -0.7260, -0.7316, -0.7241,\n",
            "        -0.7355, -0.7564, -0.7342, -0.7476, -0.7511, -0.7950, -0.7974, -0.7938,\n",
            "        -0.8098, -0.7712, -0.8274, -0.8254, -0.7846, -0.7791, -0.7707, -0.7539,\n",
            "        -0.6835, -0.6652, -0.6628, -0.6615, -0.6606, -0.6530, -0.6384, -0.6410,\n",
            "        -0.6602, -0.6625, -0.6569, -0.6727, -0.6668, -0.6882, -0.6934, -0.6903,\n",
            "        -0.7180, -0.7177, -0.7482, -0.7100, -0.7031, -0.7096, -0.6997, -0.6902,\n",
            "        -0.6863, -0.6990, -0.6847, -0.6945, -0.7011, -0.6834, -0.6891, -0.6622,\n",
            "        -0.6653, -0.6746, -0.6565, -0.6437, -0.6311, -0.6319, -0.6083, -0.6188,\n",
            "        -0.6026, -0.6144, -0.5779, -0.5725, -0.5786, -0.5866, -0.5911, -0.5933,\n",
            "        -0.5958, -0.5911, -0.5564, -0.5578, -0.5481, -0.5356, -0.5274, -0.5391,\n",
            "        -0.5361, -0.5400, -0.5294, -0.5465, -0.5725, -0.5799, -0.5690, -0.5853,\n",
            "        -0.5664, -0.5561, -0.5423, -0.5406, -0.5619, -0.5505, -0.5395, -0.5334,\n",
            "        -0.5327, -0.5251, -0.5513, -0.5655, -0.5429, -0.4944, -0.4898, -0.5028,\n",
            "        -0.5164, -0.5215, -0.5246, -0.5210, -0.5055, -0.5067, -0.5272, -0.5243,\n",
            "        -0.5289, -0.5253, -0.5223, -0.5323, -0.5235, -0.5904, -0.6123, -0.6174,\n",
            "        -0.5981, -0.6082, -0.6241, -0.6275, -0.6401, -0.6394, -0.6414, -0.6536,\n",
            "        -0.6537, -0.6563, -0.6456, -0.6363, -0.6274, -0.6176, -0.5670, -0.5642,\n",
            "        -0.5604, -0.5690, -0.5682, -0.5644, -0.5668, -0.5505, -0.5653, -0.5659,\n",
            "        -0.5763, -0.5764, -0.5764, -0.5443, -0.5388, -0.5503, -0.5857, -0.5762,\n",
            "        -0.5680, -0.5666, -0.5520, -0.5675, -0.5896, -0.5846, -0.5804, -0.5674,\n",
            "        -0.5545, -0.5524, -0.5613, -0.4981, -0.5260, -0.5270, -0.5450, -0.5579,\n",
            "        -0.5541, -0.5794, -0.5784, -0.5917, -0.5867, -0.5670, -0.5711, -0.5478,\n",
            "        -0.5355, -0.5369, -0.5249, -0.4858, -0.5036, -0.4825, -0.4394, -0.3990,\n",
            "        -0.4232, -0.4296, -0.4640, -0.4838, -0.4888, -0.4735, -0.4877, -0.4909,\n",
            "        -0.4674, -0.4913, -0.5068, -0.5022, -0.4870, -0.4910, -0.4983, -0.5213,\n",
            "        -0.5242, -0.5247, -0.5089, -0.5559, -0.5747, -0.5769, -0.6014, -0.6190,\n",
            "        -0.6335, -0.6329, -0.6330, -0.6371, -0.6528, -0.6550, -0.6212, -0.6336,\n",
            "        -0.6358, -0.6047, -0.6204, -0.6656])\n",
            "tensor([-0.9540, -0.9281, -0.9318, -0.9107, -0.9074, -0.8885, -0.9189, -0.9448,\n",
            "        -0.9509, -0.9797, -0.9805, -0.9647, -0.9642, -0.9496, -0.9642, -0.9530,\n",
            "        -0.9406, -0.9705, -1.0000, -0.9479, -0.9770, -0.9736, -0.9500, -0.9571,\n",
            "        -0.9484, -0.9507, -0.9509, -0.9339, -0.9778, -0.9920, -0.9734, -0.9699,\n",
            "        -0.9874, -0.9615, -0.9546, -0.9674, -0.9488, -0.9458, -0.9634, -0.9636,\n",
            "        -0.9348, -0.9400, -0.9398, -0.9323, -0.9254, -0.9262, -0.9270, -0.8954,\n",
            "        -0.8915, -0.8764, -0.8346, -0.8241, -0.8127, -0.7575, -0.7773, -0.7765,\n",
            "        -0.7830, -0.7767, -0.7748, -0.7549, -0.7639, -0.7441, -0.7357, -0.7505,\n",
            "        -0.7781, -0.7798, -0.7963, -0.8185, -0.8101, -0.8145, -0.8313, -0.8333,\n",
            "        -0.8771, -0.8743, -0.8520, -0.8426, -0.8160, -0.8003, -0.8430, -0.8559,\n",
            "        -0.8405, -0.8310, -0.8708, -0.8670, -0.8984, -0.8886, -0.8971, -0.8856,\n",
            "        -0.8996, -0.8632, -0.8624, -0.8564, -0.8390, -0.8271, -0.8411, -0.8382,\n",
            "        -0.8601, -0.8563, -0.8300, -0.8007, -0.7892, -0.8014, -0.8499, -0.8710,\n",
            "        -0.8681, -0.8791, -0.8735, -0.8582, -0.8886, -0.8955, -0.9147, -0.9224,\n",
            "        -0.9310, -0.9212, -0.9237, -0.9128, -0.9251, -0.9162, -0.9097, -0.9093,\n",
            "        -0.9312, -0.9147, -0.9197, -0.8967, -0.8904, -0.8423, -0.8193, -0.8126,\n",
            "        -0.8009, -0.7972, -0.7924, -0.7899, -0.7817, -0.8026, -0.7631, -0.7817,\n",
            "        -0.7706, -0.7658, -0.7520, -0.7631, -0.7658, -0.7637, -0.7566, -0.7422,\n",
            "        -0.7081, -0.7079, -0.7562, -0.7483, -0.7390, -0.7516, -0.7493, -0.7374,\n",
            "        -0.7547, -0.7623, -0.7729, -0.7593, -0.7407, -0.7225, -0.7334, -0.7313,\n",
            "        -0.7332, -0.7376, -0.7351, -0.7041, -0.7039, -0.6951, -0.6989, -0.6588,\n",
            "        -0.6632, -0.6634, -0.6769, -0.7263, -0.7443, -0.7330, -0.7459, -0.7303,\n",
            "        -0.7248, -0.7370, -0.7606, -0.7455, -0.6926, -0.6851, -0.7056, -0.7597,\n",
            "        -0.7227, -0.7368, -0.7058, -0.7238, -0.7058, -0.7156, -0.7092, -0.7259,\n",
            "        -0.7131, -0.7029, -0.7240, -0.7058, -0.6914, -0.6761, -0.7100, -0.6960,\n",
            "        -0.7439, -0.7399, -0.7104, -0.7008, -0.7175, -0.7282, -0.7353, -0.7413,\n",
            "        -0.7712, -0.8051, -0.8110, -0.8014, -0.8030, -0.8039, -0.8064, -0.7882,\n",
            "        -0.7759, -0.7802, -0.7190, -0.7100, -0.7033, -0.6960, -0.6866, -0.6924,\n",
            "        -0.7089, -0.7169, -0.7102, -0.7023, -0.6972, -0.7114, -0.6953, -0.6598,\n",
            "        -0.6721, -0.6742, -0.6500, -0.6322, -0.6454, -0.5916, -0.5881, -0.5962,\n",
            "        -0.5644, -0.5599, -0.6046, -0.5446, -0.5337, -0.5596, -0.5343, -0.5187,\n",
            "        -0.5322, -0.5312, -0.5644, -0.5875, -0.6456, -0.6458, -0.6489, -0.6809,\n",
            "        -0.6954, -0.6912, -0.6746, -0.7041, -0.7382, -0.7422, -0.7110, -0.7464,\n",
            "        -0.7207, -0.7625, -0.7539, -0.7505, -0.7194, -0.7217, -0.7223, -0.7227,\n",
            "        -0.6970, -0.6686, -0.6627, -0.6554, -0.6504, -0.7215, -0.7301, -0.6970,\n",
            "        -0.6951, -0.7129, -0.6770, -0.7587, -0.7165, -0.7160, -0.7183, -0.7161,\n",
            "        -0.7292, -0.7234, -0.7173, -0.7434, -0.7393, -0.7855, -0.7901, -0.7827,\n",
            "        -0.7888, -0.7696, -0.8218, -0.8158, -0.7736, -0.7696, -0.7662, -0.7144,\n",
            "        -0.6640, -0.6554, -0.6556, -0.6508, -0.6560, -0.6245, -0.6126, -0.6261,\n",
            "        -0.6370, -0.6328, -0.6259, -0.6460, -0.6542, -0.6701, -0.6632, -0.7002,\n",
            "        -0.6880, -0.6977, -0.7253, -0.6828, -0.6820, -0.6895, -0.6757, -0.6822,\n",
            "        -0.6698, -0.6744, -0.6696, -0.6774, -0.6799, -0.6602, -0.6429, -0.6414,\n",
            "        -0.6445, -0.6514, -0.6370, -0.6249, -0.6188, -0.6077, -0.5828, -0.5843,\n",
            "        -0.5770, -0.5872, -0.5442, -0.5385, -0.5519, -0.5484, -0.5605, -0.5580,\n",
            "        -0.5672, -0.5293, -0.5264, -0.5214, -0.5082, -0.4900, -0.4923, -0.4998,\n",
            "        -0.5000, -0.4990, -0.4961, -0.5044, -0.5483, -0.5414, -0.5300, -0.5530,\n",
            "        -0.5260, -0.5191, -0.5090, -0.5099, -0.5341, -0.5076, -0.5047, -0.4904,\n",
            "        -0.5021, -0.4877, -0.5205, -0.5256, -0.5072, -0.4484, -0.4449, -0.4735,\n",
            "        -0.4885, -0.4875, -0.4806, -0.4609, -0.4691, -0.4779, -0.4817, -0.4875,\n",
            "        -0.4768, -0.4793, -0.4848, -0.4883, -0.4931, -0.5724, -0.5737, -0.5674,\n",
            "        -0.5697, -0.5699, -0.5944, -0.5966, -0.6084, -0.6111, -0.6096, -0.6268,\n",
            "        -0.6264, -0.6274, -0.6236, -0.6023, -0.5973, -0.5858, -0.5356, -0.5293,\n",
            "        -0.5429, -0.5304, -0.5320, -0.5327, -0.5323, -0.5088, -0.5300, -0.5281,\n",
            "        -0.5438, -0.5437, -0.5414, -0.5036, -0.5023, -0.5145, -0.5519, -0.5279,\n",
            "        -0.5272, -0.5220, -0.5185, -0.5381, -0.5496, -0.5563, -0.5421, -0.5318,\n",
            "        -0.5134, -0.5195, -0.4674, -0.4837, -0.4808, -0.5088, -0.5026, -0.5233,\n",
            "        -0.5134, -0.5496, -0.5377, -0.5584, -0.5511, -0.5310, -0.5300, -0.5136,\n",
            "        -0.4982, -0.4988, -0.4511, -0.4616, -0.4409, -0.4070, -0.3804, -0.3687,\n",
            "        -0.3813, -0.3850, -0.4306, -0.4405, -0.4469, -0.4208, -0.4428, -0.4474,\n",
            "        -0.4237, -0.4787, -0.4591, -0.4664, -0.4382, -0.4472, -0.4748, -0.4877,\n",
            "        -0.4810, -0.4733, -0.4844, -0.5199, -0.5297, -0.5396, -0.5686, -0.5912,\n",
            "        -0.6021, -0.6027, -0.6136, -0.5969, -0.6355, -0.6303, -0.5925, -0.6149,\n",
            "        -0.5900, -0.5881, -0.5920, -0.6378])\n"
          ]
        }
      ]
    },
    {
      "cell_type": "markdown",
      "source": [
        "**Scaler Inversion**"
      ],
      "metadata": {
        "id": "xMu25dksyR0E"
      }
    },
    {
      "cell_type": "code",
      "source": [
        "pred_size = len(pred)\n",
        "pred_new = scaler.inverse_transform(\n",
        "    np.hstack((np.zeros((pred_size, 3)), pred.reshape(-1, 1)))\n",
        ")\n",
        "print(pred_new[:, 3])"
      ],
      "metadata": {
        "colab": {
          "base_uri": "https://localhost:8080/"
        },
        "id": "JGZyhHXtKZfn",
        "outputId": "fcda9162-836c-47a9-f30f-c2960c3bc590"
      },
      "execution_count": null,
      "outputs": [
        {
          "output_type": "stream",
          "name": "stdout",
          "text": [
            "[1098.18258121 1094.88770256 1095.40409686 1102.15727795 1113.07793676\n",
            " 1115.35853054 1106.06508133 1088.85439472 1085.10426187 1074.94309608\n",
            " 1069.38432366 1077.8803705  1079.16723568 1082.07356687 1085.15756508\n",
            " 1083.81901383 1088.48394673 1093.46313224 1065.71069366 1083.46526585\n",
            " 1076.73889186 1075.56902008 1086.15558531 1085.07720598 1087.23813187\n",
            " 1091.10423187 1085.08211958 1097.81064048 1078.39433911 1067.69488551\n",
            " 1079.44516497 1078.5967296  1071.09876519 1082.93095868 1084.9985884\n",
            " 1085.74041735 1086.90680607 1096.96562596 1092.25939395 1082.00001839\n",
            " 1094.38101106 1102.20557427 1094.72570931 1096.80975916 1101.47111571\n",
            " 1101.29313772 1102.2533419  1113.37623571 1116.74348109 1128.71950618\n",
            " 1141.45807197 1150.90636172 1155.01988316 1163.96620842 1176.84303913\n",
            " 1167.09057277 1169.05700724 1168.70179763 1166.66722584 1173.56339886\n",
            " 1170.17189648 1173.79352941 1179.74787759 1181.06347798 1166.86914985\n",
            " 1157.22080202 1154.35664069 1137.45423572 1142.49869745 1144.47990382\n",
            " 1135.57941808 1136.10846957 1114.76833897 1116.22954359 1125.71686224\n",
            " 1132.82425778 1145.95252167 1152.77579928 1138.61838534 1129.19086953\n",
            " 1135.24162375 1139.84684711 1133.8103361  1122.33615111 1110.42723707\n",
            " 1109.10426628 1110.11547237 1111.42479082 1111.63131744 1123.64195541\n",
            " 1125.29472817 1129.54340466 1138.75888937 1145.35063698 1142.99086585\n",
            " 1136.77003271 1132.67246491 1127.87212816 1141.38051175 1155.21782654\n",
            " 1162.60025919 1157.98384029 1138.53423219 1121.31262993 1117.40737664\n",
            " 1116.52840232 1116.36942565 1125.9808904  1111.85050125 1109.58337321\n",
            " 1100.24744315 1094.8135943  1092.04027235 1094.29530298 1095.36463258\n",
            " 1103.06085136 1097.82917531 1104.69664421 1105.05720281 1105.18346362\n",
            " 1108.47684953 1095.72528448 1106.59366634 1106.15909277 1110.89810284\n",
            " 1110.71216357 1161.23297272 1153.03936096 1164.14863353 1164.45962076\n",
            " 1166.46660798 1162.98784258 1161.46509359 1155.15681084 1165.30233397\n",
            " 1170.89991759 1161.90598019 1172.10860058 1174.64445268 1180.13754459\n",
            " 1167.60152479 1171.97388091 1172.10828959 1180.8900715  1192.9193998\n",
            " 1197.81281503 1182.74249806 1175.57026168 1178.626893   1174.00102009\n",
            " 1174.41320257 1178.03212992 1173.00365294 1169.74655924 1166.68607167\n",
            " 1168.9874083  1179.34965844 1186.81543567 1185.66674212 1187.86825185\n",
            " 1183.95827155 1182.42578866 1182.02719632 1198.84348892 1200.03102477\n",
            " 1201.87791576 1200.98877216 1215.24893629 1218.25164243 1210.21203155\n",
            " 1208.79436514 1186.40717163 1175.03427518 1177.92897545 1175.40195539\n",
            " 1180.20705024 1184.88824778 1182.30748912 1172.94213966 1174.72157752\n",
            " 1194.92704009 1204.45400961 1197.30721199 1177.66584916 1183.95310917\n",
            " 1181.43529432 1193.17226352 1189.13238386 1196.31646886 1192.7904956\n",
            " 1195.19318297 1185.94187253 1189.35134997 1198.6322042  1188.18676498\n",
            " 1193.88840493 1199.99470147 1202.73334835 1209.27720392 1191.8306024\n",
            " 1180.25093054 1176.51199322 1188.03354157 1194.66500225 1193.60204788\n",
            " 1184.50131746 1182.1909311  1176.35475807 1166.1299332  1159.76327815\n",
            " 1144.76386627 1147.20440078 1152.78348067 1149.17043098 1152.83404719\n",
            " 1156.59842326 1163.15182615 1169.23184427 1191.29122614 1200.40091299\n",
            " 1201.55644826 1202.86200376 1210.77078231 1203.38962471 1200.92243858\n",
            " 1194.74641871 1190.86486264 1193.77178471 1199.10384744 1202.94509955\n",
            " 1197.46494471 1220.32947253 1215.12845983 1215.03746497 1222.1403512\n",
            " 1228.48592131 1226.31669206 1249.72945928 1255.64250835 1248.67704738\n",
            " 1261.38327049 1264.65833925 1246.75138333 1263.12591856 1274.87190639\n",
            " 1264.79529803 1274.05239283 1280.41438307 1274.44479652 1277.55725006\n",
            " 1259.17675387 1246.6228212  1216.79933204 1216.45015558 1217.91017844\n",
            " 1207.86815186 1196.0864627  1197.89696818 1205.00302648 1195.13956877\n",
            " 1177.99223026 1172.69782809 1188.52829116 1178.52687951 1184.92842733\n",
            " 1172.1201693  1170.38753503 1171.33844069 1188.28662298 1192.07404321\n",
            " 1188.88343858 1189.35847158 1195.58347194 1212.63347145 1219.28433774\n",
            " 1218.0331428  1224.7736045  1199.01406542 1183.52982444 1193.27669304\n",
            " 1198.32563298 1189.48980149 1199.98978787 1156.68207883 1183.89520334\n",
            " 1192.554052   1189.65437593 1193.57014059 1187.60851531 1176.71055857\n",
            " 1188.29405557 1181.30038806 1179.4748308  1156.54832322 1155.30592922\n",
            " 1157.18139993 1148.85011413 1168.97714572 1139.6571138  1140.67730742\n",
            " 1161.97719627 1164.86110528 1169.26225882 1177.97960418 1214.71976041\n",
            " 1224.2620305  1225.55377818 1226.19245266 1226.68906817 1230.64485689\n",
            " 1238.25511879 1236.91952192 1226.90893615 1225.70799675 1228.59022643\n",
            " 1220.39310052 1223.46599648 1212.29300263 1209.56601777 1211.19322737\n",
            " 1196.71434592 1196.87238964 1180.96626337 1200.9147261  1204.50398526\n",
            " 1201.12946278 1206.29222406 1211.25150638 1213.25152748 1206.62230591\n",
            " 1214.08260976 1209.00263329 1205.53055412 1214.77813271 1211.81066143\n",
            " 1225.8478788  1224.23792899 1219.39557787 1228.80735772 1235.50882163\n",
            " 1242.07289138 1241.67572958 1253.96476332 1248.46840604 1256.95244878\n",
            " 1250.79645648 1269.84958695 1272.64110166 1269.44116742 1265.28647127\n",
            " 1262.9592294  1261.78907773 1260.50423398 1262.93270219 1281.03225251\n",
            " 1280.32730665 1285.40230732 1291.90946641 1296.17562038 1290.0825719\n",
            " 1291.62317156 1289.6269756  1295.13869565 1286.20795085 1272.67042776\n",
            " 1268.813222   1274.4794716  1265.95335229 1275.8364644  1281.21380686\n",
            " 1288.38392853 1289.3054459  1278.1798776  1284.13248425 1289.85539573\n",
            " 1293.07218548 1293.43812416 1297.38654248 1283.71625893 1276.27588936\n",
            " 1288.0751493  1313.41121707 1315.77159463 1308.99952107 1301.9242816\n",
            " 1299.24204781 1297.6320047  1299.54075105 1307.59671985 1306.99611021\n",
            " 1296.27236851 1297.77101599 1295.37712956 1297.25826024 1298.84989291\n",
            " 1293.64371782 1298.19069327 1263.31661593 1251.9067742  1249.21748099\n",
            " 1259.29020201 1254.00839483 1245.7019569  1243.96363156 1237.39598546\n",
            " 1237.73489935 1236.69405617 1230.33159945 1230.2914199  1228.90643825\n",
            " 1234.48243936 1239.37775161 1244.02408748 1249.09389467 1275.51297548\n",
            " 1276.99697546 1278.95274307 1274.45300659 1274.90424906 1276.8717098\n",
            " 1275.62253628 1284.15226304 1276.40047084 1276.08945251 1270.66505768\n",
            " 1270.58830603 1270.59135371 1287.38027943 1290.24860798 1284.22313703\n",
            " 1265.78610336 1270.71764562 1274.98467036 1275.71325125 1283.33853384\n",
            " 1275.27438607 1263.71875352 1266.3478707  1268.54829197 1275.28977994\n",
            " 1282.04768803 1283.12115376 1278.4819084  1311.47647219 1296.92665455\n",
            " 1296.37567847 1286.97776865 1280.24134978 1282.22426658 1269.05544995\n",
            " 1269.5708491  1262.64939282 1265.22100846 1275.52367344 1273.39082969\n",
            " 1285.51808787 1291.97340538 1291.22286879 1297.50788969 1317.87780232\n",
            " 1308.58018588 1319.60993901 1342.11295973 1363.17643608 1350.57087953\n",
            " 1347.21874814 1329.26452215 1318.94503276 1316.31994287 1324.27634911\n",
            " 1316.86779353 1315.21365243 1327.50551616 1315.01247479 1306.93761351\n",
            " 1309.31616827 1317.24203557 1315.19671918 1311.33946676 1299.35826374\n",
            " 1297.86418777 1297.6051043  1305.81613134 1281.32454941 1271.47530382\n",
            " 1270.33068421 1257.58592977 1248.37983688 1240.80431225 1241.11523729\n",
            " 1241.07941156 1238.95748346 1230.77245495 1229.61007797 1247.21528298\n",
            " 1240.76926399 1239.59849035 1255.84943925 1247.64133549 1224.0600132 ]\n"
          ]
        }
      ]
    },
    {
      "cell_type": "code",
      "source": [
        "test_size = len(actual)\n",
        "actual_new = scaler.inverse_transform(\n",
        "    np.hstack((np.zeros((test_size, 3)), actual.reshape(-1, 1)))\n",
        ")\n",
        "\n",
        "print(actual_new[:, 3])"
      ],
      "metadata": {
        "colab": {
          "base_uri": "https://localhost:8080/"
        },
        "id": "PtTD1bisKfKJ",
        "outputId": "f0c2f01a-ed0e-452e-bfda-74dc09379497"
      },
      "execution_count": null,
      "outputs": [
        {
          "output_type": "stream",
          "name": "stdout",
          "text": [
            "[1073.60000441 1087.09999134 1085.20001484 1096.20000649 1097.89998711\n",
            " 1107.79998582 1091.899986   1078.39999907 1075.20000263 1060.19999987\n",
            " 1059.80000809 1067.99999509 1068.30000447 1075.9000038  1068.30000447\n",
            " 1074.10000969 1080.59998496 1064.99999454 1049.6        1076.80000085\n",
            " 1061.60000221 1063.39999632 1075.70000791 1072.00000619 1076.49999147\n",
            " 1075.29998503 1075.20000263 1084.09999079 1061.20001042 1053.80000699\n",
            " 1063.50000981 1065.30000392 1056.19998877 1069.7000068  1073.29999503\n",
            " 1066.59999276 1076.29999558 1077.8999938  1068.69999625 1068.60001386\n",
            " 1083.59998552 1080.89999435 1081.00000784 1084.90000545 1088.49999367\n",
            " 1088.10000189 1087.70001011 1104.19999759 1106.1999876  1114.0999963\n",
            " 1135.90001482 1141.40001065 1147.29999826 1176.09999733 1165.80000684\n",
            " 1166.19999862 1162.80000629 1166.09998513 1167.09999568 1177.49999966\n",
            " 1172.7999874  1183.10000899 1187.50001187 1179.79999905 1165.40001506\n",
            " 1164.49998691 1155.90000813 1144.29999771 1148.70000059 1146.4000012\n",
            " 1137.59999544 1136.59998489 1113.70000452 1115.19998925 1126.79999968\n",
            " 1131.70000783 1145.59998654 1153.80000464 1131.50001194 1124.80000967\n",
            " 1132.80000078 1137.79999133 1117.00001446 1119.00000446 1102.59999937\n",
            " 1107.70000342 1103.30000054 1109.30000164 1102.0000117  1120.99999446\n",
            " 1121.39998624 1124.50000029 1133.60001544 1139.80001243 1132.49999139\n",
            " 1134.00000722 1122.59999268 1124.60001378 1138.29999661 1153.60000875\n",
            " 1159.60000985 1153.19998587 1127.89999262 1116.90000097 1118.39998569\n",
            " 1112.69999397 1115.60001213 1123.60000323 1107.70000342 1104.1000152\n",
            " 1094.100003   1090.09999189 1085.60000662 1090.70001066 1089.39999073\n",
            " 1095.10001355 1088.69998956 1093.29998834 1096.70001177 1096.90000766\n",
            " 1085.49999312 1094.100003   1091.49999422 1103.49999643 1106.80000637\n",
            " 1131.90000372 1143.90000593 1147.40001175 1153.49999525 1155.40000286\n",
            " 1157.89999813 1159.19998697 1163.50000746 1152.5999982  1173.20001028\n",
            " 1163.50000746 1169.30001267 1171.80000795 1179.00001549 1173.20001028\n",
            " 1171.80000795 1172.90000089 1176.60000261 1184.09998844 1201.89999585\n",
            " 1202.00000935 1176.7999985  1180.899992   1185.80000015 1179.20001138\n",
            " 1180.39998672 1186.60001481 1177.60001316 1173.60000206 1168.10000623\n",
            " 1175.20000028 1184.9000031  1194.40001003 1188.69998721 1189.80001125\n",
            " 1188.8000007  1186.50000132 1187.79999015 1203.99999935 1204.10001284\n",
            " 1208.70001162 1206.69999052 1227.60001198 1225.30001259 1225.1999991\n",
            " 1218.19998745 1192.39998893 1182.99999549 1188.9000142  1182.20001193\n",
            " 1190.29998543 1193.20000359 1186.8000107  1174.49999911 1182.40000782\n",
            " 1210.00000045 1213.89999806 1203.19998469 1175.00000439 1194.29999653\n",
            " 1186.8999931  1203.10000229 1193.70000886 1203.10000229 1197.99999825\n",
            " 1201.30000818 1192.59998482 1199.29998708 1204.59998702 1193.59999537\n",
            " 1203.10000229 1210.59998812 1218.60001033 1200.8999853  1208.20000634\n",
            " 1183.19999138 1185.29999488 1200.69998941 1205.70001107 1196.9999877\n",
            " 1191.40000947 1187.70000776 1184.59999371 1169.00000328 1151.30000936\n",
            " 1148.19999532 1153.19998587 1152.40000231 1151.89999703 1150.6000082\n",
            " 1160.10001512 1166.50000801 1164.29999102 1196.20000414 1200.8999853\n",
            " 1204.39999113 1208.20000634 1213.1000145  1210.10001395 1201.50000407\n",
            " 1197.29999708 1200.80000291 1204.89999641 1207.59998757 1200.20001524\n",
            " 1208.59999812 1227.10000671 1220.70001382 1219.59998978 1232.20001075\n",
            " 1241.49999069 1234.59999253 1262.69999044 1264.49998455 1260.30000866\n",
            " 1276.90000964 1279.20000902 1255.90000578 1287.20000013 1292.89999185\n",
            " 1279.40000491 1292.60001356 1300.69998706 1293.70000651 1294.20001178\n",
            " 1276.90000964 1264.79999394 1234.50001014 1234.39999664 1232.79999842\n",
            " 1216.10001505 1208.49998463 1210.70000162 1219.39999389 1203.99999935\n",
            " 1186.19999193 1184.09998844 1200.40001113 1181.90000255 1195.30000708\n",
            " 1173.49998856 1178.00000494 1179.79999905 1196.00000825 1194.80000181\n",
            " 1194.49999242 1194.29999653 1207.70000107 1222.50000793 1225.59999088\n",
            " 1229.40000609 1232.00001486 1194.9000153  1190.39999892 1207.70000107\n",
            " 1208.70001162 1199.40000058 1218.10000505 1175.50000966 1197.49999297\n",
            " 1197.80000236 1196.59999592 1197.69998886 1190.9000042  1193.90000475\n",
            " 1197.10000119 1183.50000077 1185.60000426 1161.49998636 1159.10000457\n",
            " 1163.00000218 1159.80000574 1169.79998685 1142.59998599 1145.70000004\n",
            " 1167.70001445 1169.79998685 1171.60001206 1198.59998592 1224.89998972\n",
            " 1229.40000609 1229.2999926  1231.79998787 1229.09999671 1245.50000179\n",
            " 1251.69999879 1244.69998713 1238.99999542 1241.20001241 1244.80000063\n",
            " 1234.30001425 1229.99999376 1221.69999327 1225.30001259 1205.99998935\n",
            " 1212.40001333 1207.30000929 1192.8999942  1215.1000045  1215.49999628\n",
            " 1211.59999867 1218.80000622 1215.40001388 1221.89998916 1219.50000738\n",
            " 1222.00000266 1217.90000916 1216.59998923 1226.90001082 1235.90001247\n",
            " 1236.69999603 1235.09999781 1231.50000959 1238.99999542 1245.3000059\n",
            " 1248.50000235 1254.30000756 1267.29998921 1266.50000565 1270.29998977\n",
            " 1264.99998983 1287.39999602 1290.39999657 1283.39998492 1285.20001013\n",
            " 1278.89999964 1280.19998848 1275.39999381 1295.19999123 1296.70000706\n",
            " 1299.29998473 1306.20001399 1315.70000537 1314.49999893 1310.60000132\n",
            " 1310.50000337 1310.9999931  1312.49999337 1308.20000399 1285.29999252\n",
            " 1288.90001184 1294.79999945 1282.79999725 1296.90000295 1300.49999117\n",
            " 1305.79999111 1305.29998583 1292.69999596 1306.49999227 1308.0000081\n",
            " 1315.49999393 1309.40001043 1316.89999626 1299.79999    1297.09999884\n",
            " 1306.69998816 1337.39999484 1339.2000045  1324.29999969 1316.50000448\n",
            " 1316.9999942  1320.59999797 1330.90000401 1326.59999908 1322.0000003\n",
            " 1319.99999475 1316.9999942  1322.60000352 1321.29999914 1318.39999653\n",
            " 1316.60000242 1314.10000715 1272.70000265 1272.00000148 1275.30001142\n",
            " 1274.10000498 1273.99999148 1261.20000572 1260.10001277 1253.89998468\n",
            " 1252.50001345 1253.29999701 1244.29999535 1244.49999124 1243.99998597\n",
            " 1246.00000707 1257.10001222 1259.69998989 1265.69999099 1291.90001239\n",
            " 1295.19999123 1288.09999718 1294.60000356 1293.7999889  1293.39999712\n",
            " 1293.59999301 1305.9000046  1294.79999945 1295.80001    1287.59999191\n",
            " 1287.7000054  1288.90001184 1308.59999577 1309.29999693 1302.90000405\n",
            " 1283.39998492 1295.8999924  1296.30001528 1299.00000644 1300.80000055\n",
            " 1290.59999246 1284.59999136 1281.09998553 1288.49998896 1293.9000024\n",
            " 1303.49999172 1300.29999528 1327.49999613 1318.99999975 1320.50000003\n",
            " 1305.9000046  1309.10000104 1298.30000528 1303.49999172 1284.59999136\n",
            " 1290.79998835 1279.99999259 1283.8000078  1294.29999418 1294.79999945\n",
            " 1303.40000933 1311.40000043 1311.10000659 1335.99999251 1330.49999668\n",
            " 1341.29999245 1359.00000192 1372.89999618 1378.99999523 1372.40000646\n",
            " 1370.49999885 1346.70000588 1341.50000389 1338.19999395 1351.79999438\n",
            " 1340.29999745 1337.90000012 1350.2999941  1321.59999297 1331.80000107\n",
            " 1328.00000141 1342.69999478 1337.99999806 1323.59999852 1316.89999626\n",
            " 1320.40000208 1324.39999764 1318.59999242 1300.09999939 1294.99999534\n",
            " 1289.8000089  1274.69999265 1262.89998633 1257.19999461 1256.89998523\n",
            " 1251.19999351 1259.89998578 1239.80001008 1242.50000124 1262.19998517\n",
            " 1250.49999235 1263.5000051  1264.49998455 1262.49999455 1238.60000364]\n"
          ]
        }
      ]
    },
    {
      "cell_type": "markdown",
      "source": [
        "**Performance Metrics**"
      ],
      "metadata": {
        "id": "_-VB_osEyWnt"
      }
    },
    {
      "cell_type": "code",
      "source": [
        "from sklearn.metrics import mean_absolute_error, mean_squared_error\n",
        "\n",
        "mae = mean_absolute_error(actual_new, pred_new)\n",
        "print(\"Mean Absolute Error (MAE):\", mae)\n",
        "\n",
        "rmse = np.sqrt(mean_squared_error(actual_new, pred_new))\n",
        "print(\"Root Mean Squared Error (RMSE):\", rmse)"
      ],
      "metadata": {
        "colab": {
          "base_uri": "https://localhost:8080/"
        },
        "id": "cNf73MWMKiN1",
        "outputId": "ce29e360-08c5-4e6e-95ea-8043b60bdd38"
      },
      "execution_count": null,
      "outputs": [
        {
          "output_type": "stream",
          "name": "stdout",
          "text": [
            "Mean Absolute Error (MAE): 2.9498087355941536\n",
            "Root Mean Squared Error (RMSE): 6.931123083591387\n"
          ]
        }
      ]
    },
    {
      "cell_type": "markdown",
      "source": [
        "**Visualization**"
      ],
      "metadata": {
        "id": "RL3Q-QZuybDE"
      }
    },
    {
      "cell_type": "code",
      "source": [
        "fig, ax = plt.subplots()\n",
        "\n",
        "ax.plot(actual_new[:,3], 'r-', label='Actual')\n",
        "ax.plot(pred_new[:,3], 'c-', label='Predicted')\n",
        "\n",
        "ax.set_ylabel('Stock Value (dollars)')\n",
        "\n",
        "ax.set_ylim(min(min(actual_new[:,3]), min(pred_new[:,3])) - 5, max(max(actual_new[:,3]), max(pred_new[:,3])) + 5)\n",
        "plt.xticks([])\n",
        "\n",
        "ax.legend(loc='upper left')\n",
        "\n",
        "plt.show()"
      ],
      "metadata": {
        "colab": {
          "base_uri": "https://localhost:8080/",
          "height": 409
        },
        "id": "H-TJpYM5KlyY",
        "outputId": "a54f913c-651f-4927-8360-f62e7b6042d8"
      },
      "execution_count": null,
      "outputs": [
        {
          "output_type": "display_data",
          "data": {
            "text/plain": [
              "<Figure size 640x480 with 1 Axes>"
            ],
            "image/png": "[encoded data removed]"
          },
          "metadata": {}
        }
      ]
    },
    {
      "cell_type": "code",
      "source": [
        "difference = actual_new - pred_new\n",
        "fig = plt.figure()\n",
        "diffGraph = fig.add_axes([0,0,1,1])\n",
        "diffGraph.plot(difference[:, 3], 'b')\n",
        "diffGraph.set_ylabel('Difference between Actual and Predicted Stock Value (dollars)')\n",
        "plt.xticks([])\n",
        "plt.show()"
      ],
      "metadata": {
        "colab": {
          "base_uri": "https://localhost:8080/",
          "height": 516
        },
        "id": "88lv68WDKnbu",
        "outputId": "ec928487-fb99-4335-d86e-9271b61f9ea3"
      },
      "execution_count": null,
      "outputs": [
        {
          "output_type": "display_data",
          "data": {
            "text/plain": [
              "<Figure size 640x480 with 1 Axes>"
            ],
            "image/png": "[encoded data removed]"
          },
          "metadata": {}
        }
      ]
    }
  ]
}